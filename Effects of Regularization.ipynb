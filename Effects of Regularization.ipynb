{
 "cells": [
  {
   "cell_type": "code",
   "execution_count": 1,
   "metadata": {},
   "outputs": [],
   "source": [
    "def warn(*args, **kwargs):\n",
    "    pass\n",
    "\n",
    "import warnings\n",
    "warnings.warn = warn\n",
    "\n",
    "import seaborn as sns\n",
    "\n",
    "import pandas as pd\n",
    "import numpy as np\n",
    "from random import choices\n",
    "from collections import Counter\n",
    "from sklearn.tree import DecisionTreeClassifier, export_graphviz\n",
    "from sklearn.neighbors import KNeighborsClassifier\n",
    "from sklearn.naive_bayes import GaussianNB\n",
    "from sklearn.ensemble import GradientBoostingClassifier, RandomForestClassifier\n",
    "from sklearn.linear_model import LogisticRegression\n",
    "from sklearn.neural_network import MLPClassifier \n",
    "from sklearn.preprocessing import OneHotEncoder, MinMaxScaler\n",
    "from sklearn.model_selection import train_test_split\n",
    "from sklearn.metrics import confusion_matrix, accuracy_score, make_scorer,balanced_accuracy_score\n",
    "from sklearn.metrics import roc_auc_score\n",
    "import matplotlib.pyplot as plt\n",
    "from sklearn.compose import ColumnTransformer\n",
    "from sklearn.preprocessing import StandardScaler\n",
    "from sklearn.model_selection import GridSearchCV"
   ]
  },
  {
   "cell_type": "code",
   "execution_count": 6,
   "metadata": {},
   "outputs": [
    {
     "data": {
      "text/html": [
       "<div>\n",
       "<style scoped>\n",
       "    .dataframe tbody tr th:only-of-type {\n",
       "        vertical-align: middle;\n",
       "    }\n",
       "\n",
       "    .dataframe tbody tr th {\n",
       "        vertical-align: top;\n",
       "    }\n",
       "\n",
       "    .dataframe thead th {\n",
       "        text-align: right;\n",
       "    }\n",
       "</style>\n",
       "<table border=\"1\" class=\"dataframe\">\n",
       "  <thead>\n",
       "    <tr style=\"text-align: right;\">\n",
       "      <th></th>\n",
       "      <th>admit</th>\n",
       "      <th>iq</th>\n",
       "      <th>sat</th>\n",
       "    </tr>\n",
       "  </thead>\n",
       "  <tbody>\n",
       "    <tr>\n",
       "      <th>0</th>\n",
       "      <td>False</td>\n",
       "      <td>92.472816</td>\n",
       "      <td>959.728157</td>\n",
       "    </tr>\n",
       "    <tr>\n",
       "      <th>1</th>\n",
       "      <td>False</td>\n",
       "      <td>77.055728</td>\n",
       "      <td>862.557282</td>\n",
       "    </tr>\n",
       "    <tr>\n",
       "      <th>2</th>\n",
       "      <td>False</td>\n",
       "      <td>96.986655</td>\n",
       "      <td>1046.866552</td>\n",
       "    </tr>\n",
       "    <tr>\n",
       "      <th>3</th>\n",
       "      <td>False</td>\n",
       "      <td>104.129996</td>\n",
       "      <td>1105.299959</td>\n",
       "    </tr>\n",
       "    <tr>\n",
       "      <th>4</th>\n",
       "      <td>False</td>\n",
       "      <td>101.215587</td>\n",
       "      <td>1047.155871</td>\n",
       "    </tr>\n",
       "  </tbody>\n",
       "</table>\n",
       "</div>"
      ],
      "text/plain": [
       "   admit          iq          sat\n",
       "0  False   92.472816   959.728157\n",
       "1  False   77.055728   862.557282\n",
       "2  False   96.986655  1046.866552\n",
       "3  False  104.129996  1105.299959\n",
       "4  False  101.215587  1047.155871"
      ]
     },
     "execution_count": 6,
     "metadata": {},
     "output_type": "execute_result"
    }
   ],
   "source": [
    "synthetic = pd.read_csv(\"synthetic.csv\")\n",
    "synthetic.pop('gender')\n",
    "synthetic.head()"
   ]
  },
  {
   "cell_type": "code",
   "execution_count": 7,
   "metadata": {},
   "outputs": [
    {
     "data": {
      "text/html": [
       "<div>\n",
       "<style scoped>\n",
       "    .dataframe tbody tr th:only-of-type {\n",
       "        vertical-align: middle;\n",
       "    }\n",
       "\n",
       "    .dataframe tbody tr th {\n",
       "        vertical-align: top;\n",
       "    }\n",
       "\n",
       "    .dataframe thead th {\n",
       "        text-align: right;\n",
       "    }\n",
       "</style>\n",
       "<table border=\"1\" class=\"dataframe\">\n",
       "  <thead>\n",
       "    <tr style=\"text-align: right;\">\n",
       "      <th></th>\n",
       "      <th>admit</th>\n",
       "      <th>iq</th>\n",
       "      <th>sat</th>\n",
       "    </tr>\n",
       "  </thead>\n",
       "  <tbody>\n",
       "    <tr>\n",
       "      <th>count</th>\n",
       "      <td>5000.000000</td>\n",
       "      <td>5000.000000</td>\n",
       "      <td>5000.000000</td>\n",
       "    </tr>\n",
       "    <tr>\n",
       "      <th>mean</th>\n",
       "      <td>0.404000</td>\n",
       "      <td>100.037458</td>\n",
       "      <td>1045.088979</td>\n",
       "    </tr>\n",
       "    <tr>\n",
       "      <th>std</th>\n",
       "      <td>0.490747</td>\n",
       "      <td>19.909603</td>\n",
       "      <td>201.439475</td>\n",
       "    </tr>\n",
       "    <tr>\n",
       "      <th>min</th>\n",
       "      <td>0.000000</td>\n",
       "      <td>23.912771</td>\n",
       "      <td>271.127706</td>\n",
       "    </tr>\n",
       "    <tr>\n",
       "      <th>25%</th>\n",
       "      <td>0.000000</td>\n",
       "      <td>86.664101</td>\n",
       "      <td>908.881888</td>\n",
       "    </tr>\n",
       "    <tr>\n",
       "      <th>50%</th>\n",
       "      <td>0.000000</td>\n",
       "      <td>99.936357</td>\n",
       "      <td>1040.152307</td>\n",
       "    </tr>\n",
       "    <tr>\n",
       "      <th>75%</th>\n",
       "      <td>1.000000</td>\n",
       "      <td>113.993465</td>\n",
       "      <td>1185.707223</td>\n",
       "    </tr>\n",
       "    <tr>\n",
       "      <th>max</th>\n",
       "      <td>1.000000</td>\n",
       "      <td>159.906606</td>\n",
       "      <td>1688.765366</td>\n",
       "    </tr>\n",
       "  </tbody>\n",
       "</table>\n",
       "</div>"
      ],
      "text/plain": [
       "             admit           iq          sat\n",
       "count  5000.000000  5000.000000  5000.000000\n",
       "mean      0.404000   100.037458  1045.088979\n",
       "std       0.490747    19.909603   201.439475\n",
       "min       0.000000    23.912771   271.127706\n",
       "25%       0.000000    86.664101   908.881888\n",
       "50%       0.000000    99.936357  1040.152307\n",
       "75%       1.000000   113.993465  1185.707223\n",
       "max       1.000000   159.906606  1688.765366"
      ]
     },
     "execution_count": 7,
     "metadata": {},
     "output_type": "execute_result"
    }
   ],
   "source": [
    "synthetic['admit'] = [0 if x == False else 1 for x in synthetic['admit']]\n",
    "# synthetic['gender'] = [0 if x == \"woman\" else 1 for x in synthetic['gender']]\n",
    "synthetic.describe()"
   ]
  },
  {
   "cell_type": "code",
   "execution_count": 8,
   "metadata": {},
   "outputs": [
    {
     "name": "stdout",
     "output_type": "stream",
     "text": [
      "{0: 2980, 1: 2020}\n",
      "Percent of positive labels (Y = 1): 33.89%\n"
     ]
    }
   ],
   "source": [
    "counts = synthetic['admit'].value_counts().to_dict()\n",
    "print(counts)\n",
    "MCPc = counts[1]/(counts[0]+counts[0])*100\n",
    "print(\"Percent of positive labels (Y = 1): {0:.2f}%\".format(MCPc))"
   ]
  },
  {
   "cell_type": "code",
   "execution_count": 9,
   "metadata": {},
   "outputs": [],
   "source": [
    "def add_Fx(df_p,df_n,ppc, npc):\n",
    "    \"\"\"\n",
    "    \n",
    "    Add sensitive feature {0,1} to the dataframe\n",
    "    \n",
    "    parameter:\n",
    "    - df_p   : dataframe for Y = 1\n",
    "    - df_n   : dataframe for Y = 0\n",
    "    - ppc    : percentage of S = 1 in Y = 0\n",
    "    - npc    : percentage of S = 1 in Y = 0\n",
    "    \n",
    "    output:\n",
    "    - X      : 8-dim array of independent variable\n",
    "    - y      : 1-dim array of target variable\n",
    "    \n",
    "    \"\"\"\n",
    "    \n",
    "    \n",
    "    df_p.loc[:, 'Feature_X'] = choices([0,1],cum_weights = [ppc,100], k = len(df_p))\n",
    "    df_n.loc[:, 'Feature_X'] = choices([0,1],cum_weights = [npc,100], k = len(df_n))\n",
    "    dall = df_p.append(df_n)   \n",
    "    \n",
    "#     print(\"Distribution of Sensitive Attribute in Y = 1: {}\".format(Counter(df_p['Feature_X'])))\n",
    "#     print(\"Distribution of Sensitive Attribute in Y = 0: {}\".format(Counter(df_n['Feature_X'])))\n",
    "#     print(\"Distribution of Y (total): {}\".format(Counter(dall['Class'])))\n",
    "#     print(\"Distribution of Sensitive Attribute in Y (total): {}\".format(Counter(dall['Feature_X'])))\n",
    "    y = dall.pop(\"admit\").values\n",
    "    X = dall.values\n",
    "    #print(\"Dimension of X after adding sensitive attribute: {}\".format(X.shape))\n",
    "    #print(\"Shape of y: {}\".format(y.shape))\n",
    "    return X, y \n",
    "\n",
    "def df_subsample_pos_class(all_df, rpc = 0, subsample = True):\n",
    "    \n",
    "    \"\"\"\n",
    "    \n",
    "    Add sensitive feature {0,1} to the dataframe\n",
    "    \n",
    "    parameter:\n",
    "    - all_df : original dataframe\n",
    "    - rpc    : requested positive percentage to subsample\n",
    "    \n",
    "    output:\n",
    "    - df_p      : dataframe for Y = 1 after subsampling\n",
    "    - df_n      : dataframe for Y = 0\n",
    "    \n",
    "    \"\"\"\n",
    "    \n",
    "    if subsample :\n",
    "        rp = rpc/100 \n",
    "        df_p = all_df[all_df['admit']==1].copy()\n",
    "        df_n = all_df[all_df['admit']==0].copy()\n",
    "        np = len(df_p)\n",
    "        nn = len(df_n)\n",
    "        perc_p = np/(np+nn)\n",
    "    \n",
    "        if rp > perc_p:\n",
    "            print('Requested positive percentage (pcpc) is too high.',perc_p)\n",
    "            return df_p, df_n\n",
    "    \n",
    "        np_dash = rp/(1-rp)* nn\n",
    "        df_p = df_p.sample(int(np_dash+0.5))\n",
    "    \n",
    "        #print(np,nn,'--',np_dash)\n",
    "        return df_p, df_n\n",
    "    else:\n",
    "        df_p = all_df[all_df['admit']==1].copy()\n",
    "        df_n = all_df[all_df['admit']==0].copy()\n",
    "        return df_p,df_n\n",
    "    \n",
    "def df_count_feat_val_match(df1, f1, v1, f2, v2):\n",
    "    return len (df1[(df1[f1]==int(v1)) & (df1[f2]==int(v2))])\n",
    "\n",
    "def underestimation_score(y_true,y_pred,SA):\n",
    "    \"\"\"\n",
    "    \n",
    "    parameter:\n",
    "    - y_true : ground truth for prediction outcomes\n",
    "    - y_pred : predicted outcomes\n",
    "    - SA     : sensitive attributes\n",
    "    \n",
    "    output:\n",
    "    - us_0: underestimation for S = 0\n",
    "    - us_1: underestimation for S = 1\n",
    "    \n",
    "    \"\"\"\n",
    "    mydict = {}\n",
    "    mydict['actual'] = y_true\n",
    "    mydict['predicted'] = y_pred\n",
    "    mydict['sex'] = SA\n",
    "    us = pd.DataFrame(mydict)\n",
    "\n",
    "    P_dash_FX0 = df_count_feat_val_match(us, 'predicted', 1, 'sex',0)\n",
    "    P_FX0 = df_count_feat_val_match(us, 'actual', 1, 'sex',0)\n",
    "    Bias_FX0 = P_dash_FX0/P_FX0\n",
    "    \n",
    "    if P_FX0 == 0:\n",
    "        print(\"Divsion by zero detected!\")\n",
    "               \n",
    "    return Bias_FX0\n",
    "\n",
    "def evaluate_model(y_true,y_pred,SA):\n",
    "    \"\"\"\n",
    "    \n",
    "    parameter:\n",
    "    - y_true : ground truth for prediction outcomes\n",
    "    - y_pred : predicted labels\n",
    "    - y_prob : predicted probability\n",
    "    - SA     : sensitive attributes in the test data\n",
    "    \n",
    "    output:\n",
    "    - accuracy : accuracy scores\n",
    "    - rocauc   : roc auc scores\n",
    "    - us_0     : underestimation score for S = 0\n",
    "    - us_1     : underestimation score for S = 1\n",
    "    \n",
    "    \"\"\"\n",
    "    accuracy = balanced_accuracy_score(y_true,y_pred)\n",
    "    b = underestimation_score(y_true,y_pred,SA)\n",
    "    return accuracy,b\n",
    "\n",
    "\n",
    "    \n",
    "def preprocess_data(X,y):\n",
    "    \"\"\"\n",
    "    Numerical features are scaled using MinMaxScaler, while categorical features one-hot-encoded.\n",
    "    \n",
    "    parameter:\n",
    "    - X    : 8-dim array of independent variable\n",
    "    - y    : 1-dim array of target variable\n",
    "    \n",
    "    output:\n",
    "    - Xtrain      : 8-dim array containing independent variable in the train test\n",
    "    - Xtest       : 8-dim array containing independent variable in the test set\n",
    "    - y_train     : 1-dim array of target variable in the train set\n",
    "    - y_test      : 1-dim array of target variable in the test set\n",
    "    \n",
    "    \"\"\"\n",
    "    \n",
    "    minority_in_Pos = 0\n",
    "    \n",
    "    while not minority_in_Pos:\n",
    "        X_train, X_test, y_train, y_test = train_test_split(X, y, test_size=0.3, shuffle = True, stratify = y)\n",
    "        temp = pd.DataFrame({'Feature_X': X_test[:,2], 'admit': y_test}, columns=['Feature_X', 'admit'])\n",
    "#         print(df_count_feat_val_match(temp, 'admit', 1, 'Feature_X',0) )\n",
    "        minority_in_Pos = df_count_feat_val_match(temp, 'admit', 1, 'Feature_X',0)    \n",
    "\n",
    "    minmax = MinMaxScaler()\n",
    "    xtrain_num = minmax.fit_transform(X_train[:,0:2])\n",
    "    xtest_num = minmax.transform(X_test[:,0:2])\n",
    "    \n",
    "    Xtrain = np.hstack((xtrain_num,X_train[:,2].reshape(-1,1)))\n",
    "    Xtest = np.hstack((xtest_num,X_test[:,2].reshape(-1,1)))\n",
    "\n",
    "#     print(\"Shape of train data: {}\".format(Xtrain.shape))\n",
    "#     print(\"Shape of test data : {}\".format(Xtest.shape))\n",
    "    \n",
    "    return Xtrain,Xtest,y_train,y_test"
   ]
  },
  {
   "cell_type": "markdown",
   "metadata": {},
   "source": [
    "### Logistic Regression"
   ]
  },
  {
   "cell_type": "code",
   "execution_count": 10,
   "metadata": {
    "scrolled": true
   },
   "outputs": [
    {
     "name": "stdout",
     "output_type": "stream",
     "text": [
      "C: 1000\n",
      "C: 100\n",
      "C: 10\n",
      "C: 1\n",
      "C: 0.1\n",
      "C: 0.01\n",
      "C: 0.001\n"
     ]
    }
   ],
   "source": [
    "logreg_param = [0.001,0.01,0.1,1,10,100,1000]\n",
    "logreg_param.reverse()\n",
    "logreg_DF = pd.DataFrame(columns=['Balanced Accuracy','Underestimation'])\n",
    "\n",
    "\n",
    "for c in logreg_param:\n",
    "    print(\"C: {}\".format(c))\n",
    "    logreg =  LogisticRegression(C=c,max_iter=1000,n_jobs=-1,random_state=0) \n",
    "    accuracies_mean, bias_mean = [],[]\n",
    "\n",
    "    \n",
    "    for i in range(20):\n",
    "        df_p,df_n = df_subsample_pos_class(synthetic,subsample=False)\n",
    "        X,y = add_Fx(df_p,df_n,50,50)\n",
    "        Xtrain,Xtest,y_train,y_test = preprocess_data(X,y)\n",
    "        logreg.fit(Xtrain,y_train)\n",
    "        y_pred = logreg.predict(Xtest)\n",
    "        acc,bias = evaluate_model(y_test,y_pred,Xtest[:,2].ravel())\n",
    "        accuracies_mean.append(acc)\n",
    "        bias_mean.append(bias)\n",
    "    logreg_DF.loc[str(c)] = [np.median(accuracies_mean),np.median(bias_mean)] "
   ]
  },
  {
   "cell_type": "code",
   "execution_count": 12,
   "metadata": {},
   "outputs": [
    {
     "data": {
      "image/png": "[encoded data removed]",
      "text/plain": [
       "<Figure size 432x288 with 2 Axes>"
      ]
     },
     "metadata": {
      "needs_background": "light"
     },
     "output_type": "display_data"
    }
   ],
   "source": [
    "ax1=logreg_DF['Underestimation'].plot(linewidth=2.0, marker = 'o')\n",
    "ax2=logreg_DF['Balanced Accuracy'].plot(secondary_y=True, color = 'r',marker = 'x',linewidth=2.0)\n",
    "\n",
    "ax1.set_ylim(0,1.5)\n",
    "ax2.set_ylim(0,1)\n",
    "ax1.set_xlabel('C = 1/Alpha')\n",
    "ax2.set_ylabel('Balanced Accuracy',  fontsize = 10)\n",
    "ax1.set_ylabel('Underestimation',  fontsize = 10)\n",
    "ax1.legend(loc=\"upper left\", ncol = 2, fontsize = 10)\n",
    "ax2.legend(loc=\"upper right\", fontsize = 10)\n",
    "plt.savefig('LR.png', dpi = 300,bbox_inches = 'tight')\n",
    "plt.show()"
   ]
  },
  {
   "cell_type": "markdown",
   "metadata": {},
   "source": [
    "### Neural Networks"
   ]
  },
  {
   "cell_type": "code",
   "execution_count": 13,
   "metadata": {
    "scrolled": true
   },
   "outputs": [
    {
     "name": "stdout",
     "output_type": "stream",
     "text": [
      "Alpha: 0.1\n",
      "Alpha: 1\n",
      "Alpha: 2\n",
      "Alpha: 5\n",
      "Alpha: 7\n",
      "Alpha: 10\n",
      "Alpha: 12\n"
     ]
    }
   ],
   "source": [
    "NN_param = [0.1,1,2,5,7,10,12]\n",
    "NN_DF = pd.DataFrame(columns=['Balanced Accuracy','Underestimation'])\n",
    "\n",
    "\n",
    "for a in NN_param:\n",
    "    print(\"Alpha: {}\".format(a))\n",
    "    NN =  MLPClassifier(hidden_layer_sizes=[50], max_iter=1000, alpha = a)\n",
    "    accuracies_mean, bias_mean = [],[]\n",
    "    for i in range(20):\n",
    "        df_p,df_n = df_subsample_pos_class(synthetic,subsample=False)\n",
    "        X,y = add_Fx(df_p,df_n,15,30)\n",
    "        Xtrain,Xtest,y_train,y_test = preprocess_data(X,y)\n",
    "        NN.fit(Xtrain,y_train)\n",
    "        y_pred = NN.predict(Xtest)\n",
    "        acc,bias = evaluate_model(y_test,y_pred,Xtest[:,2].ravel())\n",
    "        accuracies_mean.append(acc)\n",
    "        bias_mean.append(bias)\n",
    "    NN_DF.loc[str(a)] = [np.median(accuracies_mean),np.median(bias_mean)] "
   ]
  },
  {
   "cell_type": "code",
   "execution_count": 14,
   "metadata": {},
   "outputs": [
    {
     "data": {
      "image/png": "[encoded data removed]",
      "text/plain": [
       "<Figure size 432x288 with 2 Axes>"
      ]
     },
     "metadata": {
      "needs_background": "light"
     },
     "output_type": "display_data"
    }
   ],
   "source": [
    "ax1=NN_DF['Underestimation'].plot(linewidth=2.0, marker = 'o')\n",
    "ax2=NN_DF['Balanced Accuracy'].plot(secondary_y=True, color = 'r',marker = 'x',linewidth=2.0)\n",
    "\n",
    "ax1.set_ylim(0,1.5)\n",
    "ax2.set_ylim(0,1)\n",
    "ax1.set_xlabel('Alpha')\n",
    "ax2.set_ylabel('Balanced Accuracy',  fontsize = 10)\n",
    "ax1.set_ylabel('Underestimation',  fontsize = 10)\n",
    "ax1.legend(loc=\"upper left\", ncol = 2, fontsize = 10)\n",
    "ax2.legend(loc=\"upper right\", fontsize = 10)\n",
    "plt.savefig('NN.png', dpi = 300,bbox_inches = 'tight')\n",
    "plt.show()"
   ]
  },
  {
   "cell_type": "markdown",
   "metadata": {},
   "source": [
    "### Decision Tree"
   ]
  },
  {
   "cell_type": "code",
   "execution_count": 15,
   "metadata": {},
   "outputs": [
    {
     "name": "stdout",
     "output_type": "stream",
     "text": [
      "max_depth: 2\n",
      "max_depth: 3\n",
      "max_depth: 5\n",
      "max_depth: 10\n",
      "max_depth: 20\n",
      "max_depth: 30\n",
      "max_depth: 40\n",
      "max_depth: 50\n",
      "max_depth: 60\n",
      "max_depth: 70\n",
      "max_depth: 80\n",
      "max_depth: 90\n",
      "max_depth: 100\n",
      "max_depth: 110\n",
      "max_depth: 120\n",
      "max_depth: 130\n",
      "max_depth: 140\n",
      "max_depth: 150\n",
      "max_depth: 160\n",
      "max_depth: 170\n",
      "max_depth: 180\n",
      "max_depth: 190\n",
      "max_depth: 200\n",
      "max_depth: 300\n"
     ]
    }
   ],
   "source": [
    "DT_param =  [2,3,5,10,20,30,40,50,60,70,80,90,100,110,120,130,140,150,160,170,180,190,200,300]\n",
    "DT_DF = pd.DataFrame(columns=['Balanced Accuracy','Underestimation'])\n",
    "\n",
    "\n",
    "for depth in DT_param:\n",
    "    print(\"max_depth: {}\".format(depth))\n",
    "    DT =  DecisionTreeClassifier(min_samples_split=depth)\n",
    "    accuracies_mean, bias_mean = [],[]\n",
    "    for i in range(20):\n",
    "        df_p,df_n = df_subsample_pos_class(synthetic,subsample=False)\n",
    "        X,y = add_Fx(df_p,df_n,15,30)\n",
    "        Xtrain,Xtest,y_train,y_test = preprocess_data(X,y)\n",
    "        DT.fit(Xtrain,y_train)\n",
    "        y_pred = DT.predict(Xtest)\n",
    "        acc,bias = evaluate_model(y_test,y_pred,Xtest[:,2].ravel())\n",
    "        accuracies_mean.append(acc)\n",
    "        bias_mean.append(bias)\n",
    "    DT_DF.loc[str(depth)] = [np.median(accuracies_mean),np.median(bias_mean)] "
   ]
  },
  {
   "cell_type": "code",
   "execution_count": 16,
   "metadata": {},
   "outputs": [
    {
     "data": {
      "image/png": "[encoded data removed]",
      "text/plain": [
       "<Figure size 432x288 with 2 Axes>"
      ]
     },
     "metadata": {
      "needs_background": "light"
     },
     "output_type": "display_data"
    }
   ],
   "source": [
    "ax1=DT_DF['Underestimation'].plot(linewidth=2.0, marker = 'o')\n",
    "ax2=DT_DF['Balanced Accuracy'].plot(secondary_y=True, color = 'r',marker = 'x',linewidth=2.0)\n",
    "\n",
    "ax1.set_ylim(0,1.5)\n",
    "ax2.set_ylim(0,1)\n",
    "ax1.set_xlabel('min_samples_split')\n",
    "ax2.set_ylabel('Balanced Accuracy',  fontsize = 10)\n",
    "ax1.set_ylabel('Underestimation',  fontsize = 10)\n",
    "ax1.legend(loc=\"upper left\", ncol = 2, fontsize = 10)\n",
    "ax2.legend(loc=\"upper right\", fontsize = 10)\n",
    "plt.savefig('DT.png', dpi = 300,bbox_inches = 'tight')\n",
    "plt.show()"
   ]
  },
  {
   "cell_type": "markdown",
   "metadata": {},
   "source": [
    "### Gradient Boosting"
   ]
  },
  {
   "cell_type": "code",
   "execution_count": 17,
   "metadata": {},
   "outputs": [
    {
     "name": "stdout",
     "output_type": "stream",
     "text": [
      "n_estimators: 20\n",
      "n_estimators: 19\n",
      "n_estimators: 18\n",
      "n_estimators: 17\n",
      "n_estimators: 16\n",
      "n_estimators: 15\n",
      "n_estimators: 14\n",
      "n_estimators: 13\n",
      "n_estimators: 12\n",
      "n_estimators: 11\n",
      "n_estimators: 10\n",
      "n_estimators: 9\n",
      "n_estimators: 8\n",
      "n_estimators: 7\n",
      "n_estimators: 6\n",
      "n_estimators: 5\n",
      "n_estimators: 4\n",
      "n_estimators: 3\n",
      "n_estimators: 2\n",
      "n_estimators: 1\n"
     ]
    }
   ],
   "source": [
    "GBDT_param =  [1,2,3,4,5,6,7,8,9,10,11,12,13,14,15,16,17,18,19,20]\n",
    "GBDT_param.reverse()\n",
    "GBDT_DF = pd.DataFrame(columns=['Balanced Accuracy','Underestimation','TPR','TNR'])\n",
    "\n",
    "\n",
    "for n in GBDT_param:\n",
    "    print(\"n_estimators: {}\".format(n))\n",
    "    GBDT =  GradientBoostingClassifier(learning_rate = 0.1, n_estimators=n,max_depth=1)\n",
    "    accuracies_mean, bias_mean = [],[]\n",
    "    tpr_mean,tnr_mean = [],[]\n",
    "    for i in range(20):\n",
    "        df_p,df_n = df_subsample_pos_class(synthetic,subsample=False)\n",
    "        X,y = add_Fx(df_p,df_n,15,30)\n",
    "        Xtrain,Xtest,y_train,y_test = preprocess_data(X,y)\n",
    "        GBDT.fit(Xtrain,y_train)\n",
    "        y_pred = GBDT.predict(Xtest)\n",
    "        acc,bias = evaluate_model(y_test,y_pred,Xtest[:,2].ravel())\n",
    "        accuracies_mean.append(acc)\n",
    "        bias_mean.append(bias)\n",
    "        #print(tn,fp,fn,tp)\n",
    "        tn, fp, fn, tp = confusion_matrix(y_test,y_pred).ravel()\n",
    "        tpr = tp/(tp+fn)\n",
    "        tnr = tn/(tn+fp)\n",
    "        tpr_mean.append(tpr)\n",
    "        tnr_mean.append(tnr)\n",
    "    GBDT_DF.loc[str(n)] = [np.median(accuracies_mean),np.median(bias_mean),np.median(tpr_mean),np.median(tnr_mean)] "
   ]
  },
  {
   "cell_type": "code",
   "execution_count": 18,
   "metadata": {},
   "outputs": [
    {
     "data": {
      "image/png": "[encoded data removed]",
      "text/plain": [
       "<Figure size 432x288 with 2 Axes>"
      ]
     },
     "metadata": {
      "needs_background": "light"
     },
     "output_type": "display_data"
    }
   ],
   "source": [
    "ax1=GBDT_DF['Underestimation'].plot(linewidth=2.0, marker = 'o')\n",
    "ax2=GBDT_DF['Balanced Accuracy'].plot(secondary_y=True, color = 'r',marker = 'x',linewidth=2.0)\n",
    "\n",
    "\n",
    "ax1.set_ylim(0,1.5)\n",
    "ax2.set_ylim(0,1)\n",
    "ax1.set_xlabel('n_estimators')\n",
    "ax2.set_ylabel('Balanced Accuracy',  fontsize = 10)\n",
    "ax1.set_ylabel('Underestimation',  fontsize = 10)\n",
    "ax1.legend(loc=\"upper left\", ncol = 2, fontsize = 10)\n",
    "ax2.legend(loc=\"upper right\", fontsize = 10)\n",
    "plt.savefig('GDBT.png', dpi = 300,bbox_inches = 'tight')\n",
    "plt.show()"
   ]
  },
  {
   "cell_type": "code",
   "execution_count": null,
   "metadata": {},
   "outputs": [],
   "source": [
    "GBDT_DF"
   ]
  },
  {
   "cell_type": "code",
   "execution_count": null,
   "metadata": {},
   "outputs": [],
   "source": []
  }
 ],
 "metadata": {
  "kernelspec": {
   "display_name": "Python 3",
   "language": "python",
   "name": "python3"
  },
  "language_info": {
   "codemirror_mode": {
    "name": "ipython",
    "version": 3
   },
   "file_extension": ".py",
   "mimetype": "text/x-python",
   "name": "python",
   "nbconvert_exporter": "python",
   "pygments_lexer": "ipython3",
   "version": "3.8.3"
  }
 },
 "nbformat": 4,
 "nbformat_minor": 4
}
